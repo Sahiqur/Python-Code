{
 "cells": [
  {
   "cell_type": "markdown",
   "id": "d6f11488",
   "metadata": {},
   "source": [
    "#While Loop in Python"
   ]
  },
  {
   "cell_type": "code",
   "execution_count": 1,
   "id": "9cdd2981",
   "metadata": {},
   "outputs": [
    {
     "name": "stdout",
     "output_type": "stream",
     "text": [
      "1\n",
      "2\n",
      "3\n",
      "4\n",
      "5\n"
     ]
    }
   ],
   "source": [
    "i=1\n",
    "while i<6:\n",
    "    print(i)\n",
    "    i=i+1"
   ]
  },
  {
   "cell_type": "code",
   "execution_count": 2,
   "id": "62e270de",
   "metadata": {},
   "outputs": [
    {
     "name": "stdout",
     "output_type": "stream",
     "text": [
      "Sahiqur Rahman\n",
      "Sahiqur Rahman\n",
      "Sahiqur Rahman\n",
      "Sahiqur Rahman\n",
      "Sahiqur Rahman\n"
     ]
    }
   ],
   "source": [
    "i=1\n",
    "while i<6:\n",
    "    print(\"Sahiqur Rahman\")\n",
    "    i=i+1"
   ]
  },
  {
   "cell_type": "code",
   "execution_count": 6,
   "id": "ce1f5d11",
   "metadata": {},
   "outputs": [
    {
     "name": "stdout",
     "output_type": "stream",
     "text": [
      "Enter the Vlaue of N=5\n",
      "10\n"
     ]
    }
   ],
   "source": [
    "i=1\n",
    "s=0\n",
    "n=int(input(\"Enter the Vlaue of N=\"))\n",
    "while i<n:\n",
    "    s=s+i\n",
    "    i=i+1\n",
    "print(s)\n",
    "    "
   ]
  },
  {
   "cell_type": "code",
   "execution_count": 7,
   "id": "9d2589a8",
   "metadata": {},
   "outputs": [
    {
     "name": "stdout",
     "output_type": "stream",
     "text": [
      "1\n",
      "2\n",
      "3\n"
     ]
    }
   ],
   "source": [
    "i=1\n",
    "while i<=6:\n",
    "    print(i)\n",
    "    if i==3:\n",
    "        break\n",
    "    i=i+1"
   ]
  },
  {
   "cell_type": "code",
   "execution_count": 8,
   "id": "183cb889",
   "metadata": {},
   "outputs": [
    {
     "name": "stdout",
     "output_type": "stream",
     "text": [
      "Enter the Value N = 10\n",
      "1\n",
      "2\n",
      "3\n",
      "4\n",
      "5\n"
     ]
    }
   ],
   "source": [
    "i=1\n",
    "n=int(input(\"Enter the Value N = \"))\n",
    "while i<=n:\n",
    "    print(i)\n",
    "    if i==5:\n",
    "        break\n",
    "    i=i+1"
   ]
  },
  {
   "cell_type": "code",
   "execution_count": 3,
   "id": "9df67ede",
   "metadata": {},
   "outputs": [
    {
     "name": "stdout",
     "output_type": "stream",
     "text": [
      "Enter the Value N = 5\n",
      "1\n",
      "2\n",
      "3\n",
      "4\n",
      "6\n"
     ]
    }
   ],
   "source": [
    "i=0\n",
    "n=int(input(\"Enter the Value N = \"))\n",
    "while i<=n:\n",
    "    i=i+1\n",
    "    if i==5:\n",
    "        continue\n",
    "    print(i)"
   ]
  },
  {
   "cell_type": "markdown",
   "id": "5a350cd8",
   "metadata": {},
   "source": [
    "#For Loop in Python\n"
   ]
  },
  {
   "cell_type": "code",
   "execution_count": 6,
   "id": "897b68a2",
   "metadata": {},
   "outputs": [
    {
     "name": "stdout",
     "output_type": "stream",
     "text": [
      "Sahiq\n",
      "Robin\n",
      "Mainuddin\n",
      "Sabbir\n",
      "Kobir\n"
     ]
    }
   ],
   "source": [
    "a=[\"Sahiq\",\"Robin\",\"Mainuddin\",\"Sabbir\",\"Kobir\"]\n",
    "for x in a:\n",
    "    print(x)"
   ]
  },
  {
   "cell_type": "code",
   "execution_count": 7,
   "id": "068c2af0",
   "metadata": {},
   "outputs": [
    {
     "name": "stdout",
     "output_type": "stream",
     "text": [
      "b\n",
      "a\n",
      "n\n",
      "a\n",
      "n\n",
      "a\n"
     ]
    }
   ],
   "source": [
    "for i in \"banana\":\n",
    "    print(i)"
   ]
  },
  {
   "cell_type": "code",
   "execution_count": 15,
   "id": "a58804e2",
   "metadata": {},
   "outputs": [
    {
     "name": "stdout",
     "output_type": "stream",
     "text": [
      "Sahiq\n",
      "Robin\n"
     ]
    }
   ],
   "source": [
    "a=[\"Sahiq\",\"Robin\",\"Mainuddin\",\"Sabbir\",\"Kobir\"]\n",
    "for i in a:\n",
    "    print(i)\n",
    "    if i==\"Robin\":\n",
    "        break"
   ]
  },
  {
   "cell_type": "code",
   "execution_count": 16,
   "id": "c40fd585",
   "metadata": {},
   "outputs": [
    {
     "name": "stdout",
     "output_type": "stream",
     "text": [
      "Sahiq\n",
      "Robin\n",
      "Mainuddin\n",
      "Sabbir\n"
     ]
    }
   ],
   "source": [
    "a=[\"Sahiq\",\"Robin\",\"Mainuddin\",\"Sabbir\",\"Kobir\"]\n",
    "for i in a:\n",
    "    print(i)\n",
    "    if i==\"Sabbir\":\n",
    "        break"
   ]
  },
  {
   "cell_type": "code",
   "execution_count": 18,
   "id": "5ca8f832",
   "metadata": {},
   "outputs": [
    {
     "name": "stdout",
     "output_type": "stream",
     "text": [
      "Kobir\n"
     ]
    }
   ],
   "source": [
    "a=[\"Sahiq\",\"Robin\",\"Mainuddin\",\"Sabbir\",\"Kobir\"]\n",
    "for i in a:\n",
    "    if i==\"Sabbir\":\n",
    "        break\n",
    "print(x)"
   ]
  },
  {
   "cell_type": "code",
   "execution_count": 21,
   "id": "71c46d8d",
   "metadata": {},
   "outputs": [
    {
     "name": "stdout",
     "output_type": "stream",
     "text": [
      "Sahiq\n",
      "Robin\n",
      "Sabbir\n",
      "Kobir\n"
     ]
    }
   ],
   "source": [
    "a=[\"Sahiq\",\"Robin\",\"Mainuddin\",\"Sabbir\",\"Kobir\"]\n",
    "for i in a:\n",
    "    if i==\"Mainuddin\":\n",
    "        continue\n",
    "    print(i)"
   ]
  },
  {
   "cell_type": "code",
   "execution_count": 22,
   "id": "da0720e9",
   "metadata": {},
   "outputs": [
    {
     "name": "stdout",
     "output_type": "stream",
     "text": [
      "0\n",
      "1\n",
      "2\n",
      "3\n",
      "4\n",
      "5\n"
     ]
    }
   ],
   "source": [
    "for i in range(6):\n",
    "    print(i)"
   ]
  },
  {
   "cell_type": "code",
   "execution_count": 23,
   "id": "04a7dc23",
   "metadata": {},
   "outputs": [
    {
     "name": "stdout",
     "output_type": "stream",
     "text": [
      "2\n",
      "3\n",
      "4\n",
      "5\n"
     ]
    }
   ],
   "source": [
    "for i in range(2,6):\n",
    "    print(i)"
   ]
  },
  {
   "cell_type": "code",
   "execution_count": 25,
   "id": "48bb0d64",
   "metadata": {},
   "outputs": [
    {
     "name": "stdout",
     "output_type": "stream",
     "text": [
      "2\n",
      "5\n",
      "8\n",
      "11\n",
      "14\n",
      "17\n",
      "20\n",
      "23\n",
      "26\n",
      "29\n"
     ]
    }
   ],
   "source": [
    "for i in range(2,30,3):\n",
    "    print(i)"
   ]
  },
  {
   "cell_type": "code",
   "execution_count": 27,
   "id": "d8330b0f",
   "metadata": {},
   "outputs": [
    {
     "name": "stdout",
     "output_type": "stream",
     "text": [
      "1\n",
      "3\n",
      "5\n",
      "7\n",
      "9\n"
     ]
    }
   ],
   "source": [
    "for i in range(1,10,2):\n",
    "    print(i)"
   ]
  },
  {
   "cell_type": "code",
   "execution_count": 28,
   "id": "17f09fc8",
   "metadata": {},
   "outputs": [
    {
     "name": "stdout",
     "output_type": "stream",
     "text": [
      "0\n",
      "1\n",
      "2\n",
      "3\n",
      "4\n",
      "5\n",
      "Finally Finished....!!!\n"
     ]
    }
   ],
   "source": [
    "for i in range(6):\n",
    "    print(i)\n",
    "else:\n",
    "    print(\"Finally Finished....!!!\")"
   ]
  },
  {
   "cell_type": "code",
   "execution_count": 33,
   "id": "b167116d",
   "metadata": {},
   "outputs": [
    {
     "name": "stdout",
     "output_type": "stream",
     "text": [
      "0\n",
      "1\n",
      "2\n",
      "3\n",
      "4\n"
     ]
    }
   ],
   "source": [
    "for i in range(10):\n",
    "    print(i)\n",
    "    if i==4:\n",
    "        break\n",
    "else:\n",
    "    print(\"Finally Finished....!!!!\")"
   ]
  },
  {
   "cell_type": "code",
   "execution_count": 42,
   "id": "b2a19a2a",
   "metadata": {},
   "outputs": [
    {
     "name": "stdout",
     "output_type": "stream",
     "text": [
      "Sahiq Mango\n",
      "Sahiq Charry\n",
      "Sahiq Apple\n",
      "Sahiq Jackfruit\n",
      "Abir Mango\n",
      "Abir Charry\n",
      "Abir Apple\n",
      "Abir Jackfruit\n",
      "Khalid Mango\n",
      "Khalid Charry\n",
      "Khalid Apple\n",
      "Khalid Jackfruit\n",
      "Tanvir Mango\n",
      "Tanvir Charry\n",
      "Tanvir Apple\n",
      "Tanvir Jackfruit\n"
     ]
    }
   ],
   "source": [
    "a=[\"Sahiq\",\"Abir\",\"Khalid\",\"Tanvir\"]\n",
    "b=[\"Mango\",\"Charry\",\"Apple\",\"Jackfruit\"]\n",
    "for x in a:\n",
    "    for y in b:\n",
    "        print(x,y)"
   ]
  },
  {
   "cell_type": "code",
   "execution_count": 4,
   "id": "124cde0b",
   "metadata": {},
   "outputs": [
    {
     "name": "stdout",
     "output_type": "stream",
     "text": [
      "I\n",
      " \n",
      "L\n",
      "O\n",
      "V\n",
      "E\n",
      " \n",
      "D\n",
      "A\n",
      "T\n",
      "A\n",
      " \n",
      "S\n",
      "C\n",
      "I\n",
      "E\n",
      "N\n",
      "C\n",
      "E\n",
      " \n",
      " \n",
      "V\n",
      "E\n",
      "R\n",
      "Y\n",
      " \n",
      "M\n",
      "U\n",
      "C\n",
      "H\n"
     ]
    }
   ],
   "source": [
    "a=\"I LOVE DATA SCIENCE  VERY MUCH\"\n",
    "for i in range(len(a)):\n",
    "    print(a[i])"
   ]
  },
  {
   "cell_type": "code",
   "execution_count": 6,
   "id": "5117461b",
   "metadata": {},
   "outputs": [
    {
     "data": {
      "text/plain": [
       "['I', 'LOVE', 'DATA', 'SCIENCE', 'VERY', 'MUCH']"
      ]
     },
     "execution_count": 6,
     "metadata": {},
     "output_type": "execute_result"
    }
   ],
   "source": [
    "a.split()"
   ]
  },
  {
   "cell_type": "code",
   "execution_count": 13,
   "id": "b6e1e583",
   "metadata": {},
   "outputs": [
    {
     "name": "stdout",
     "output_type": "stream",
     "text": [
      "I = 1\n",
      "HAVE = 2\n",
      "BEEN = 3\n",
      "WORKING = 4\n",
      "FOR = 5\n",
      "MY = 6\n",
      "COUNTRY = 7\n",
      "SINCE = 8\n",
      "MY = 9\n",
      "CHILDHOOD = 10\n"
     ]
    }
   ],
   "source": [
    "a=\"I HAVE BEEN WORKING FOR MY COUNTRY SINCE MY CHILDHOOD\"\n",
    "a=a.split()\n",
    "for i in range(len(a)):\n",
    "    print(a[i],\"=\",i+1)"
   ]
  },
  {
   "cell_type": "code",
   "execution_count": 18,
   "id": "e6f5c6c9",
   "metadata": {},
   "outputs": [
    {
     "name": "stdout",
     "output_type": "stream",
     "text": [
      "20\n"
     ]
    }
   ],
   "source": [
    "a=[2,4,5,7,2]\n",
    "total=0\n",
    "for i in a:\n",
    "    total=total+i\n",
    "print(total)"
   ]
  },
  {
   "cell_type": "code",
   "execution_count": 35,
   "id": "fcf39eb5",
   "metadata": {},
   "outputs": [
    {
     "name": "stdout",
     "output_type": "stream",
     "text": [
      "#\n",
      "##\n",
      "###\n",
      "####\n"
     ]
    }
   ],
   "source": [
    "rows=4\n",
    "for i in range(1,rows+1):\n",
    "    for j in range(i):\n",
    "        print(\"#\", end='')\n",
    "    print('')"
   ]
  },
  {
   "cell_type": "code",
   "execution_count": 6,
   "id": "7ca90892",
   "metadata": {},
   "outputs": [
    {
     "name": "stdout",
     "output_type": "stream",
     "text": [
      "#\n",
      "##\n",
      "###\n",
      "####\n",
      "#####\n"
     ]
    }
   ],
   "source": [
    "rows=5\n",
    "for i in range(1,rows+1):\n",
    "    for j in range(i):\n",
    "        print(\"#\", end='')\n",
    "    print(\"\")\n",
    "    "
   ]
  },
  {
   "cell_type": "code",
   "execution_count": 48,
   "id": "d6f90f07",
   "metadata": {},
   "outputs": [
    {
     "name": "stdout",
     "output_type": "stream",
     "text": [
      "####\n",
      "####\n",
      "####\n",
      "####\n",
      "####\n"
     ]
    }
   ],
   "source": [
    "rows=5\n",
    "for i in range(rows):\n",
    "    for j in range(1,rows):\n",
    "        print(\"#\",end=\"\")\n",
    "    print(\"\")"
   ]
  }
 ],
 "metadata": {
  "kernelspec": {
   "display_name": "Python 3 (ipykernel)",
   "language": "python",
   "name": "python3"
  },
  "language_info": {
   "codemirror_mode": {
    "name": "ipython",
    "version": 3
   },
   "file_extension": ".py",
   "mimetype": "text/x-python",
   "name": "python",
   "nbconvert_exporter": "python",
   "pygments_lexer": "ipython3",
   "version": "3.11.5"
  }
 },
 "nbformat": 4,
 "nbformat_minor": 5
}
