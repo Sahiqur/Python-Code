{
 "cells": [
  {
   "cell_type": "code",
   "execution_count": 1,
   "id": "e76c90b0",
   "metadata": {},
   "outputs": [
    {
     "name": "stdout",
     "output_type": "stream",
     "text": [
      "24\n"
     ]
    }
   ],
   "source": [
    "x=input()"
   ]
  },
  {
   "cell_type": "code",
   "execution_count": 2,
   "id": "cd8c1333",
   "metadata": {},
   "outputs": [
    {
     "name": "stdout",
     "output_type": "stream",
     "text": [
      "<class 'str'>\n"
     ]
    }
   ],
   "source": [
    "print(type(x))"
   ]
  },
  {
   "cell_type": "code",
   "execution_count": 3,
   "id": "7a29d80b",
   "metadata": {},
   "outputs": [
    {
     "name": "stdout",
     "output_type": "stream",
     "text": [
      "29\n"
     ]
    }
   ],
   "source": [
    "x=float(input())"
   ]
  },
  {
   "cell_type": "code",
   "execution_count": 4,
   "id": "54f21d70",
   "metadata": {},
   "outputs": [
    {
     "name": "stdout",
     "output_type": "stream",
     "text": [
      "<class 'float'>\n"
     ]
    }
   ],
   "source": [
    "print(type(x))"
   ]
  },
  {
   "cell_type": "code",
   "execution_count": 5,
   "id": "8349b9cf",
   "metadata": {},
   "outputs": [
    {
     "name": "stdout",
     "output_type": "stream",
     "text": [
      "<class 'complex'>\n"
     ]
    }
   ],
   "source": [
    "x=1+3j\n",
    "\n",
    "print(type(x))"
   ]
  },
  {
   "cell_type": "code",
   "execution_count": 6,
   "id": "0f647fda",
   "metadata": {},
   "outputs": [],
   "source": [
    "x=['abir','sabbir','tannim','robbani']"
   ]
  },
  {
   "cell_type": "code",
   "execution_count": 7,
   "id": "af771f83",
   "metadata": {},
   "outputs": [
    {
     "name": "stdout",
     "output_type": "stream",
     "text": [
      "<class 'list'>\n"
     ]
    }
   ],
   "source": [
    "print(type(x))"
   ]
  },
  {
   "cell_type": "code",
   "execution_count": 8,
   "id": "223dda6a",
   "metadata": {},
   "outputs": [
    {
     "name": "stdout",
     "output_type": "stream",
     "text": [
      "<class 'tuple'>\n"
     ]
    }
   ],
   "source": [
    "x=('abir','tanvir','sahiq','jarir')\n",
    "print(type(x))"
   ]
  },
  {
   "cell_type": "code",
   "execution_count": 9,
   "id": "54d2d62a",
   "metadata": {},
   "outputs": [],
   "source": [
    "x=range(6)"
   ]
  },
  {
   "cell_type": "code",
   "execution_count": 10,
   "id": "84367bf3",
   "metadata": {},
   "outputs": [
    {
     "name": "stdout",
     "output_type": "stream",
     "text": [
      "<class 'range'>\n"
     ]
    }
   ],
   "source": [
    "print(type(x))"
   ]
  },
  {
   "cell_type": "code",
   "execution_count": 11,
   "id": "00a8a4d1",
   "metadata": {},
   "outputs": [],
   "source": [
    "x={\"name\":\"sahiq\",\"age\":\"24\"}"
   ]
  },
  {
   "cell_type": "code",
   "execution_count": 12,
   "id": "357e126c",
   "metadata": {},
   "outputs": [
    {
     "name": "stdout",
     "output_type": "stream",
     "text": [
      "<class 'dict'>\n"
     ]
    }
   ],
   "source": [
    "print(type(x))\n"
   ]
  },
  {
   "cell_type": "code",
   "execution_count": 14,
   "id": "9192da34",
   "metadata": {},
   "outputs": [
    {
     "name": "stdout",
     "output_type": "stream",
     "text": [
      "<class 'set'>\n"
     ]
    }
   ],
   "source": [
    "x={\"Sahiq\",\"Tanim\",\"Mainuddin\",\"Apu\"}\n",
    "print(type(x))"
   ]
  },
  {
   "cell_type": "code",
   "execution_count": 15,
   "id": "16e64181",
   "metadata": {},
   "outputs": [
    {
     "name": "stdout",
     "output_type": "stream",
     "text": [
      "<class 'frozenset'>\n"
     ]
    }
   ],
   "source": [
    "x=frozenset({\"Sahiq\",\"Robin\",\"Tanim\",\"Abir\"})\n",
    "print(type(x))"
   ]
  },
  {
   "cell_type": "code",
   "execution_count": 17,
   "id": "c98f427a",
   "metadata": {},
   "outputs": [],
   "source": [
    "a=1\n",
    "b=2.5\n",
    "c=3j\n",
    "x=float(a)\n",
    "y=int(2.5)\n",
    "z=complex(c)\n"
   ]
  },
  {
   "cell_type": "code",
   "execution_count": 18,
   "id": "37209ec2",
   "metadata": {},
   "outputs": [
    {
     "name": "stdout",
     "output_type": "stream",
     "text": [
      "1.0 2 3j\n"
     ]
    }
   ],
   "source": [
    "print(x,y,z)"
   ]
  },
  {
   "cell_type": "code",
   "execution_count": 21,
   "id": "5beb498a",
   "metadata": {},
   "outputs": [
    {
     "name": "stdout",
     "output_type": "stream",
     "text": [
      "<class 'float'>\n"
     ]
    }
   ],
   "source": [
    "print(type(x))"
   ]
  },
  {
   "cell_type": "code",
   "execution_count": 22,
   "id": "4d026cdb",
   "metadata": {},
   "outputs": [
    {
     "name": "stdout",
     "output_type": "stream",
     "text": [
      "<class 'int'>\n"
     ]
    }
   ],
   "source": [
    "print(type(y))"
   ]
  },
  {
   "cell_type": "code",
   "execution_count": 23,
   "id": "e1a13d24",
   "metadata": {},
   "outputs": [
    {
     "name": "stdout",
     "output_type": "stream",
     "text": [
      "<class 'complex'>\n"
     ]
    }
   ],
   "source": [
    "print(type(z))"
   ]
  },
  {
   "cell_type": "code",
   "execution_count": 24,
   "id": "26263647",
   "metadata": {},
   "outputs": [
    {
     "name": "stdout",
     "output_type": "stream",
     "text": [
      "a\n"
     ]
    }
   ],
   "source": [
    "a=\"Sahiqur Rahman\"\n",
    "print(a[1])"
   ]
  },
  {
   "cell_type": "code",
   "execution_count": 25,
   "id": "d83d6ade",
   "metadata": {},
   "outputs": [
    {
     "data": {
      "text/plain": [
       "'S'"
      ]
     },
     "execution_count": 25,
     "metadata": {},
     "output_type": "execute_result"
    }
   ],
   "source": [
    "a[0]"
   ]
  },
  {
   "cell_type": "code",
   "execution_count": 26,
   "id": "19a6b662",
   "metadata": {},
   "outputs": [
    {
     "data": {
      "text/plain": [
       "'u'"
      ]
     },
     "execution_count": 26,
     "metadata": {},
     "output_type": "execute_result"
    }
   ],
   "source": [
    "a[5]"
   ]
  },
  {
   "cell_type": "code",
   "execution_count": 27,
   "id": "337c4f2b",
   "metadata": {},
   "outputs": [
    {
     "name": "stdout",
     "output_type": "stream",
     "text": [
      "S\n",
      "a\n",
      "h\n",
      "i\n",
      "q\n"
     ]
    }
   ],
   "source": [
    "for x in \"Sahiq\":\n",
    "    print(x)"
   ]
  },
  {
   "cell_type": "code",
   "execution_count": 28,
   "id": "a4b1b0c4",
   "metadata": {},
   "outputs": [
    {
     "name": "stdout",
     "output_type": "stream",
     "text": [
      "A\n",
      "r\n",
      "i\n",
      "f\n",
      "u\n",
      "l\n",
      " \n",
      "I\n",
      "s\n",
      "l\n",
      "a\n",
      "m\n"
     ]
    }
   ],
   "source": [
    "a=\"Ariful Islam\"\n",
    "for x in a:\n",
    "    print(x)"
   ]
  },
  {
   "cell_type": "code",
   "execution_count": 29,
   "id": "430c0848",
   "metadata": {},
   "outputs": [
    {
     "name": "stdout",
     "output_type": "stream",
     "text": [
      "12\n"
     ]
    }
   ],
   "source": [
    "print(len(a))"
   ]
  },
  {
   "cell_type": "code",
   "execution_count": 36,
   "id": "87f6d771",
   "metadata": {},
   "outputs": [
    {
     "name": "stdout",
     "output_type": "stream",
     "text": [
      "False\n"
     ]
    }
   ],
   "source": [
    "txt=\"We are students in the class!!!!\"\n",
    "print(\"free\" in txt)"
   ]
  },
  {
   "cell_type": "code",
   "execution_count": 31,
   "id": "835f2510",
   "metadata": {},
   "outputs": [
    {
     "name": "stdout",
     "output_type": "stream",
     "text": [
      "True\n"
     ]
    }
   ],
   "source": [
    "print(\"the\" in txt)"
   ]
  },
  {
   "cell_type": "code",
   "execution_count": 32,
   "id": "467146f4",
   "metadata": {},
   "outputs": [
    {
     "name": "stdout",
     "output_type": "stream",
     "text": [
      "Yes...!!!! I am strongly agree with your statement\n"
     ]
    }
   ],
   "source": [
    "a=\"You are looking so beautiful!!!!\"\n",
    "if \"looking\" in a:\n",
    "    print(\"Yes...!!!!\",\"I am strongly agree with your statement\")"
   ]
  },
  {
   "cell_type": "code",
   "execution_count": 35,
   "id": "b4eb18d2",
   "metadata": {},
   "outputs": [
    {
     "name": "stdout",
     "output_type": "stream",
     "text": [
      "Enter the value of a=2\n",
      "Enter the value of b=4\n",
      "B is smaller than a\n"
     ]
    }
   ],
   "source": [
    "a=float(input(\"Enter the value of a=\"))\n",
    "b=float(input(\"Enter the value of b=\"))\n",
    "if a>b:\n",
    "    print(\"A is biggest than b\")\n",
    "print(\"B is smaller than a\")"
   ]
  },
  {
   "cell_type": "code",
   "execution_count": 37,
   "id": "a93656bf",
   "metadata": {},
   "outputs": [
    {
     "name": "stdout",
     "output_type": "stream",
     "text": [
      "True\n"
     ]
    }
   ],
   "source": [
    "a=\"we are there\"\n",
    "print(\"Abir\"not in a)"
   ]
  },
  {
   "cell_type": "code",
   "execution_count": 38,
   "id": "12554458",
   "metadata": {},
   "outputs": [
    {
     "name": "stdout",
     "output_type": "stream",
     "text": [
      "I am very loyal person there He is not a loyal person...!!!!!\n"
     ]
    }
   ],
   "source": [
    "b=\"The man is bargaining with me\"\n",
    "if(\"Abir\" not in b):\n",
    "    print(\"I am very loyal person there\",\"He is not a loyal person...!!!!!\")"
   ]
  },
  {
   "cell_type": "code",
   "execution_count": 40,
   "id": "dc84d73a",
   "metadata": {},
   "outputs": [
    {
     "name": "stdout",
     "output_type": "stream",
     "text": [
      "h\n"
     ]
    }
   ],
   "source": [
    "a=\"Sahabuddin\"\n",
    "print(a[2:3])"
   ]
  },
  {
   "cell_type": "code",
   "execution_count": 41,
   "id": "3d809067",
   "metadata": {},
   "outputs": [
    {
     "name": "stdout",
     "output_type": "stream",
     "text": [
      "abu\n"
     ]
    }
   ],
   "source": [
    "print(a[3:6])"
   ]
  },
  {
   "cell_type": "code",
   "execution_count": 42,
   "id": "ad47188c",
   "metadata": {},
   "outputs": [
    {
     "data": {
      "text/plain": [
       "'Sahab'"
      ]
     },
     "execution_count": 42,
     "metadata": {},
     "output_type": "execute_result"
    }
   ],
   "source": [
    "a[:5]"
   ]
  },
  {
   "cell_type": "code",
   "execution_count": 43,
   "id": "a27a6ab3",
   "metadata": {},
   "outputs": [
    {
     "data": {
      "text/plain": [
       "'Sahabuddin'"
      ]
     },
     "execution_count": 43,
     "metadata": {},
     "output_type": "execute_result"
    }
   ],
   "source": [
    "a[:]"
   ]
  },
  {
   "cell_type": "code",
   "execution_count": 44,
   "id": "65cd72df",
   "metadata": {},
   "outputs": [
    {
     "data": {
      "text/plain": [
       "'di'"
      ]
     },
     "execution_count": 44,
     "metadata": {},
     "output_type": "execute_result"
    }
   ],
   "source": [
    "a[-3:-1]"
   ]
  },
  {
   "cell_type": "code",
   "execution_count": 1,
   "id": "46a32585",
   "metadata": {},
   "outputs": [
    {
     "name": "stdout",
     "output_type": "stream",
     "text": [
      "SAHIQUR RAHMAN\n"
     ]
    }
   ],
   "source": [
    "a=\"Sahiqur Rahman\"\n",
    "print(a.upper())"
   ]
  },
  {
   "cell_type": "code",
   "execution_count": 2,
   "id": "18184d85",
   "metadata": {},
   "outputs": [
    {
     "name": "stdout",
     "output_type": "stream",
     "text": [
      "sahiqur rahman\n"
     ]
    }
   ],
   "source": [
    "print(a.lower())"
   ]
  },
  {
   "cell_type": "code",
   "execution_count": 3,
   "id": "bea64e33",
   "metadata": {},
   "outputs": [
    {
     "name": "stdout",
     "output_type": "stream",
     "text": [
      "Sahiqur Rahman\n"
     ]
    }
   ],
   "source": [
    "print(a.strip())"
   ]
  },
  {
   "cell_type": "code",
   "execution_count": 4,
   "id": "0f9ac259",
   "metadata": {},
   "outputs": [
    {
     "data": {
      "text/plain": [
       "'    we shall over come    '"
      ]
     },
     "execution_count": 4,
     "metadata": {},
     "output_type": "execute_result"
    }
   ],
   "source": [
    "b=\"    we shall over come    \"\n",
    "b"
   ]
  },
  {
   "cell_type": "code",
   "execution_count": 5,
   "id": "0dbeb6b3",
   "metadata": {},
   "outputs": [
    {
     "name": "stdout",
     "output_type": "stream",
     "text": [
      "we shall over come\n"
     ]
    }
   ],
   "source": [
    "print(b.strip())"
   ]
  },
  {
   "cell_type": "code",
   "execution_count": 6,
   "id": "3f1328ce",
   "metadata": {},
   "outputs": [
    {
     "name": "stdout",
     "output_type": "stream",
     "text": [
      "    WE SHALL OVER COME    \n"
     ]
    }
   ],
   "source": [
    "print(b.upper())"
   ]
  },
  {
   "cell_type": "code",
   "execution_count": 7,
   "id": "7932ba30",
   "metadata": {},
   "outputs": [
    {
     "data": {
      "text/plain": [
       "'    we shall over come    '"
      ]
     },
     "execution_count": 7,
     "metadata": {},
     "output_type": "execute_result"
    }
   ],
   "source": [
    "b.lower()"
   ]
  },
  {
   "cell_type": "code",
   "execution_count": 8,
   "id": "fffc0d90",
   "metadata": {},
   "outputs": [
    {
     "name": "stdout",
     "output_type": "stream",
     "text": [
      "    we Over over come    \n"
     ]
    }
   ],
   "source": [
    "print(b.replace(\"shall\",\"Over\"))"
   ]
  },
  {
   "cell_type": "code",
   "execution_count": 9,
   "id": "7a6c10cc",
   "metadata": {},
   "outputs": [
    {
     "name": "stdout",
     "output_type": "stream",
     "text": [
      "    we will over come    \n"
     ]
    }
   ],
   "source": [
    "print(b.replace(\"shall\",\"will\"))"
   ]
  },
  {
   "cell_type": "code",
   "execution_count": 13,
   "id": "e7f00893",
   "metadata": {},
   "outputs": [
    {
     "name": "stdout",
     "output_type": "stream",
     "text": [
      "['Sahiqur,Rahman']\n"
     ]
    }
   ],
   "source": [
    "a=\"Sahiqur,Rahman\"\n",
    "b=a.split()\n",
    "print(b)"
   ]
  },
  {
   "cell_type": "code",
   "execution_count": 18,
   "id": "9a505cf4",
   "metadata": {},
   "outputs": [
    {
     "name": "stdout",
     "output_type": "stream",
     "text": [
      "Sahiqur Rahman\n"
     ]
    }
   ],
   "source": [
    "a=\"Sahiqur\"\n",
    "b=\"Rahman\"\n",
    "s=a+\" \"+b\n",
    "print(s)"
   ]
  },
  {
   "cell_type": "code",
   "execution_count": 24,
   "id": "d5797198",
   "metadata": {},
   "outputs": [
    {
     "name": "stdout",
     "output_type": "stream",
     "text": [
      "The name is Sahiq and I am 23 years old\n"
     ]
    }
   ],
   "source": [
    "age=23\n",
    "a=\"The name is Sahiq and I am {} years old\"\n",
    "print(a.format(age))"
   ]
  },
  {
   "cell_type": "code",
   "execution_count": 27,
   "id": "0e64d435",
   "metadata": {},
   "outputs": [
    {
     "name": "stdout",
     "output_type": "stream",
     "text": [
      "<class 'int'>\n"
     ]
    }
   ],
   "source": [
    "a=5\n",
    "print(type(a))"
   ]
  },
  {
   "cell_type": "code",
   "execution_count": 28,
   "id": "b64eeb79",
   "metadata": {},
   "outputs": [
    {
     "data": {
      "text/plain": [
       "int"
      ]
     },
     "execution_count": 28,
     "metadata": {},
     "output_type": "execute_result"
    }
   ],
   "source": [
    "type(age)"
   ]
  },
  {
   "cell_type": "code",
   "execution_count": 29,
   "id": "482b23dd",
   "metadata": {},
   "outputs": [
    {
     "name": "stdout",
     "output_type": "stream",
     "text": [
      "I am 34 years old and Tarik is 35 years old\n"
     ]
    }
   ],
   "source": [
    "age=34\n",
    "age1=35\n",
    "b=\"I am {} years old and Tarik is {} years old\"\n",
    "print(b.format(age,age1))"
   ]
  },
  {
   "cell_type": "code",
   "execution_count": 30,
   "id": "bb20929d",
   "metadata": {},
   "outputs": [
    {
     "name": "stdout",
     "output_type": "stream",
     "text": [
      "Need quantities 20 and I have to pay 250 for per pices as well as My age is 25\n"
     ]
    }
   ],
   "source": [
    "q=20\n",
    "price=250\n",
    "age=25\n",
    "b=\"Need quantities {} and I have to pay {} for per pices as well as My age is {}\"\n",
    "print(b.format(q,price,age))"
   ]
  },
  {
   "cell_type": "code",
   "execution_count": 31,
   "id": "8383792b",
   "metadata": {},
   "outputs": [
    {
     "name": "stdout",
     "output_type": "stream",
     "text": [
      "Sahiq\n"
     ]
    }
   ],
   "source": [
    "a=\"sahiq\"\n",
    "print(a.capitalize())"
   ]
  },
  {
   "cell_type": "code",
   "execution_count": 32,
   "id": "1969d880",
   "metadata": {},
   "outputs": [
    {
     "name": "stdout",
     "output_type": "stream",
     "text": [
      "sahiqur rahman\n"
     ]
    }
   ],
   "source": [
    "b=\"SAHIQUR RAHMAN\"\n",
    "print(b.casefold())"
   ]
  },
  {
   "cell_type": "code",
   "execution_count": 34,
   "id": "b5a278df",
   "metadata": {},
   "outputs": [
    {
     "name": "stdout",
     "output_type": "stream",
     "text": [
      "          sahiq          \n"
     ]
    }
   ],
   "source": [
    "print(a.center(25))"
   ]
  },
  {
   "cell_type": "code",
   "execution_count": 39,
   "id": "6a4038ae",
   "metadata": {},
   "outputs": [
    {
     "name": "stdout",
     "output_type": "stream",
     "text": [
      "2\n"
     ]
    }
   ],
   "source": [
    "a=\"We shall shall over come\"\n",
    "x=a.count(\"shall\")\n",
    "print(x)"
   ]
  },
  {
   "cell_type": "code",
   "execution_count": 41,
   "id": "b92d2663",
   "metadata": {},
   "outputs": [
    {
     "name": "stdout",
     "output_type": "stream",
     "text": [
      "0\n"
     ]
    }
   ],
   "source": [
    "a=\"we have been working for our country since our childhood\"\n",
    "x=a.count(\"childhood\",10,20)\n",
    "print(x)"
   ]
  },
  {
   "cell_type": "code",
   "execution_count": 46,
   "id": "2aad2b46",
   "metadata": {},
   "outputs": [
    {
     "name": "stdout",
     "output_type": "stream",
     "text": [
      "False\n"
     ]
    }
   ],
   "source": [
    "txt=\"we are going to Dhaka,India.\"\n",
    "a=txt.endswith(\",\")\n",
    "print(a)"
   ]
  },
  {
   "cell_type": "code",
   "execution_count": 47,
   "id": "c1b2b4e9",
   "metadata": {},
   "outputs": [
    {
     "name": "stdout",
     "output_type": "stream",
     "text": [
      "True\n"
     ]
    }
   ],
   "source": [
    "txt=\"We shall over come.\"\n",
    "a=txt.endswith(\"come.\")\n",
    "print(a)"
   ]
  },
  {
   "cell_type": "code",
   "execution_count": 50,
   "id": "c03b4c08",
   "metadata": {},
   "outputs": [
    {
     "name": "stdout",
     "output_type": "stream",
     "text": [
      "H\tl\tl\t\n",
      "H       l       l       \n",
      "H   l   l   \n",
      "H         l         l         \n",
      "H                                                 l                                                 l                                                 \n"
     ]
    }
   ],
   "source": [
    "txt=\"H\\tl\\tl\\t\"\n",
    "print(txt)\n",
    "\n",
    "print(txt.expandtabs())\n",
    "print(txt.expandtabs(4))\n",
    "print(txt.expandtabs(10))\n",
    "print(txt.expandtabs(50))"
   ]
  },
  {
   "cell_type": "code",
   "execution_count": 1,
   "id": "45ff36fc",
   "metadata": {},
   "outputs": [
    {
     "name": "stdout",
     "output_type": "stream",
     "text": [
      "11\n"
     ]
    }
   ],
   "source": [
    "a=\"Welcome to Our Presentation\"\n",
    "b=a.find(\"Our\")\n",
    "print(b)"
   ]
  },
  {
   "cell_type": "code",
   "execution_count": 5,
   "id": "7ed8867e",
   "metadata": {},
   "outputs": [
    {
     "name": "stdout",
     "output_type": "stream",
     "text": [
      "-1\n"
     ]
    }
   ],
   "source": [
    "a=\"We have been working for our country since our childhood and I have to contribute on 4th Industrial Revulation.\"\n",
    "b=a.find(\"o\",5,10)\n",
    "print(b)"
   ]
  },
  {
   "cell_type": "code",
   "execution_count": 7,
   "id": "fc115a63",
   "metadata": {},
   "outputs": [
    {
     "name": "stdout",
     "output_type": "stream",
     "text": [
      "3\n"
     ]
    }
   ],
   "source": [
    "a=\"Sahiqur Rahman\"\n",
    "txt=a.index(\"i\")\n",
    "print(txt)"
   ]
  },
  {
   "cell_type": "code",
   "execution_count": 8,
   "id": "7ef23ea7",
   "metadata": {},
   "outputs": [
    {
     "name": "stdout",
     "output_type": "stream",
     "text": [
      "['Sahiqur', 'Rahman']\n"
     ]
    }
   ],
   "source": [
    "print(a.split())"
   ]
  },
  {
   "cell_type": "code",
   "execution_count": 9,
   "id": "c64e3fa9",
   "metadata": {},
   "outputs": [
    {
     "data": {
      "text/plain": [
       "[1, 2, 3, 4, 'sahiq', [1, 2, 3], (1, 2, 3, 4)]"
      ]
     },
     "execution_count": 9,
     "metadata": {},
     "output_type": "execute_result"
    }
   ],
   "source": [
    "a=[1,2,3,4,'sahiq',[1,2,3],(1,2,3,4)]\n",
    "a"
   ]
  },
  {
   "cell_type": "code",
   "execution_count": 10,
   "id": "52531274",
   "metadata": {},
   "outputs": [
    {
     "data": {
      "text/plain": [
       "1"
      ]
     },
     "execution_count": 10,
     "metadata": {},
     "output_type": "execute_result"
    }
   ],
   "source": [
    "a[0]"
   ]
  },
  {
   "cell_type": "code",
   "execution_count": 11,
   "id": "0bff40b9",
   "metadata": {},
   "outputs": [
    {
     "data": {
      "text/plain": [
       "4"
      ]
     },
     "execution_count": 11,
     "metadata": {},
     "output_type": "execute_result"
    }
   ],
   "source": [
    "a[3]"
   ]
  },
  {
   "cell_type": "code",
   "execution_count": 12,
   "id": "2b6e84d9",
   "metadata": {},
   "outputs": [
    {
     "data": {
      "text/plain": [
       "(1, 2, 3, 4)"
      ]
     },
     "execution_count": 12,
     "metadata": {},
     "output_type": "execute_result"
    }
   ],
   "source": [
    "a[-1]"
   ]
  },
  {
   "cell_type": "code",
   "execution_count": 13,
   "id": "80bf6421",
   "metadata": {},
   "outputs": [
    {
     "data": {
      "text/plain": [
       "3"
      ]
     },
     "execution_count": 13,
     "metadata": {},
     "output_type": "execute_result"
    }
   ],
   "source": [
    "a[-1][2]"
   ]
  },
  {
   "cell_type": "code",
   "execution_count": 14,
   "id": "04959ded",
   "metadata": {},
   "outputs": [],
   "source": [
    "a=range(10)"
   ]
  },
  {
   "cell_type": "code",
   "execution_count": 15,
   "id": "1db87747",
   "metadata": {},
   "outputs": [
    {
     "data": {
      "text/plain": [
       "range(0, 10)"
      ]
     },
     "execution_count": 15,
     "metadata": {},
     "output_type": "execute_result"
    }
   ],
   "source": [
    "a"
   ]
  },
  {
   "cell_type": "code",
   "execution_count": 16,
   "id": "6b100d66",
   "metadata": {},
   "outputs": [],
   "source": [
    "a=range(10,20)"
   ]
  },
  {
   "cell_type": "code",
   "execution_count": 17,
   "id": "d5b8e4e5",
   "metadata": {},
   "outputs": [
    {
     "data": {
      "text/plain": [
       "range(10, 20)"
      ]
     },
     "execution_count": 17,
     "metadata": {},
     "output_type": "execute_result"
    }
   ],
   "source": [
    "a"
   ]
  },
  {
   "cell_type": "code",
   "execution_count": 18,
   "id": "bb99798f",
   "metadata": {},
   "outputs": [
    {
     "name": "stdout",
     "output_type": "stream",
     "text": [
      "10\n",
      "11\n",
      "12\n",
      "13\n",
      "14\n",
      "15\n",
      "16\n",
      "17\n",
      "18\n",
      "19\n"
     ]
    }
   ],
   "source": [
    "a=range(10,20)\n",
    "for i in a:\n",
    "    print(i)"
   ]
  },
  {
   "cell_type": "code",
   "execution_count": 19,
   "id": "34e2d740",
   "metadata": {},
   "outputs": [
    {
     "name": "stdout",
     "output_type": "stream",
     "text": [
      "I have 45 Taka\n"
     ]
    }
   ],
   "source": [
    "txt=\"I have {} Taka\"\n",
    "print(txt.format(45))"
   ]
  },
  {
   "cell_type": "code",
   "execution_count": 20,
   "id": "03b5cfe1",
   "metadata": {},
   "outputs": [
    {
     "name": "stdout",
     "output_type": "stream",
     "text": [
      "I have two pencil\n"
     ]
    }
   ],
   "source": [
    "txt=\"I have two pen\"\n",
    "print(txt.replace(\"pen\",\"pencil\"))"
   ]
  },
  {
   "cell_type": "code",
   "execution_count": 30,
   "id": "01843c03",
   "metadata": {},
   "outputs": [],
   "source": [
    "dic={'University':'CCN','Subject':'Data Science'}"
   ]
  },
  {
   "cell_type": "code",
   "execution_count": 31,
   "id": "937eb526",
   "metadata": {},
   "outputs": [
    {
     "data": {
      "text/plain": [
       "{'University': 'CCN', 'Subject': 'Data Science'}"
      ]
     },
     "execution_count": 31,
     "metadata": {},
     "output_type": "execute_result"
    }
   ],
   "source": [
    "dic"
   ]
  },
  {
   "cell_type": "code",
   "execution_count": 32,
   "id": "14394566",
   "metadata": {},
   "outputs": [
    {
     "data": {
      "text/plain": [
       "dict_keys(['University', 'Subject'])"
      ]
     },
     "execution_count": 32,
     "metadata": {},
     "output_type": "execute_result"
    }
   ],
   "source": [
    "dic.keys()"
   ]
  },
  {
   "cell_type": "code",
   "execution_count": 33,
   "id": "9fd58b18",
   "metadata": {},
   "outputs": [
    {
     "data": {
      "text/plain": [
       "dict"
      ]
     },
     "execution_count": 33,
     "metadata": {},
     "output_type": "execute_result"
    }
   ],
   "source": [
    "type(dic)"
   ]
  },
  {
   "cell_type": "code",
   "execution_count": 35,
   "id": "9d9061d5",
   "metadata": {},
   "outputs": [
    {
     "name": "stdout",
     "output_type": "stream",
     "text": [
      "True\n",
      "True\n"
     ]
    }
   ],
   "source": [
    "a=\"Hello\"\n",
    "b=240\n",
    "print(bool(a))\n",
    "print(bool(b))"
   ]
  },
  {
   "cell_type": "code",
   "execution_count": 39,
   "id": "6d7c5265",
   "metadata": {},
   "outputs": [
    {
     "data": {
      "text/plain": [
       "['sahiq', 'tanim', 'robin']"
      ]
     },
     "execution_count": 39,
     "metadata": {},
     "output_type": "execute_result"
    }
   ],
   "source": [
    "txt=['sahiq','tanim','robin']\n",
    "txt"
   ]
  },
  {
   "cell_type": "code",
   "execution_count": 41,
   "id": "62a4b686",
   "metadata": {},
   "outputs": [
    {
     "data": {
      "text/plain": [
       "'tanim'"
      ]
     },
     "execution_count": 41,
     "metadata": {},
     "output_type": "execute_result"
    }
   ],
   "source": [
    "txt[1]"
   ]
  },
  {
   "cell_type": "code",
   "execution_count": 42,
   "id": "07d5a435",
   "metadata": {},
   "outputs": [],
   "source": [
    "txt[1]=\"Mainuddin\""
   ]
  },
  {
   "cell_type": "code",
   "execution_count": 43,
   "id": "932e614c",
   "metadata": {},
   "outputs": [
    {
     "data": {
      "text/plain": [
       "['sahiq', 'Mainuddin', 'robin']"
      ]
     },
     "execution_count": 43,
     "metadata": {},
     "output_type": "execute_result"
    }
   ],
   "source": [
    "txt"
   ]
  },
  {
   "cell_type": "code",
   "execution_count": 44,
   "id": "4b6b2e18",
   "metadata": {},
   "outputs": [
    {
     "data": {
      "text/plain": [
       "['Mainuddin']"
      ]
     },
     "execution_count": 44,
     "metadata": {},
     "output_type": "execute_result"
    }
   ],
   "source": [
    "txt[1:2]"
   ]
  },
  {
   "cell_type": "code",
   "execution_count": 45,
   "id": "3797b625",
   "metadata": {},
   "outputs": [
    {
     "data": {
      "text/plain": [
       "['sahiq', 'Mainuddin']"
      ]
     },
     "execution_count": 45,
     "metadata": {},
     "output_type": "execute_result"
    }
   ],
   "source": [
    "txt[:2]"
   ]
  },
  {
   "cell_type": "code",
   "execution_count": 50,
   "id": "3c96512b",
   "metadata": {},
   "outputs": [],
   "source": [
    "txt[:2]=[\"Abir\",\"sabbir\"]"
   ]
  },
  {
   "cell_type": "code",
   "execution_count": 51,
   "id": "5bd2789f",
   "metadata": {},
   "outputs": [
    {
     "data": {
      "text/plain": [
       "['Abir', 'sabbir', 'Mainuddin', 'robin']"
      ]
     },
     "execution_count": 51,
     "metadata": {},
     "output_type": "execute_result"
    }
   ],
   "source": [
    "txt"
   ]
  },
  {
   "cell_type": "code",
   "execution_count": 52,
   "id": "10f0db78",
   "metadata": {},
   "outputs": [
    {
     "data": {
      "text/plain": [
       "['Abir', 'sabbir', 'Mainuddin', 'robin']"
      ]
     },
     "execution_count": 52,
     "metadata": {},
     "output_type": "execute_result"
    }
   ],
   "source": [
    "txt"
   ]
  },
  {
   "cell_type": "code",
   "execution_count": 56,
   "id": "31fde385",
   "metadata": {},
   "outputs": [],
   "source": [
    "txt.insert(1,\"sahiq\")"
   ]
  },
  {
   "cell_type": "code",
   "execution_count": 5,
   "id": "9aef8bae",
   "metadata": {},
   "outputs": [
    {
     "ename": "NameError",
     "evalue": "name 'txt' is not defined",
     "output_type": "error",
     "traceback": [
      "\u001b[1;31m---------------------------------------------------------------------------\u001b[0m",
      "\u001b[1;31mNameError\u001b[0m                                 Traceback (most recent call last)",
      "Cell \u001b[1;32mIn[5], line 1\u001b[0m\n\u001b[1;32m----> 1\u001b[0m txt\n",
      "\u001b[1;31mNameError\u001b[0m: name 'txt' is not defined"
     ]
    }
   ],
   "source": [
    "txt\n"
   ]
  },
  {
   "cell_type": "code",
   "execution_count": 1,
   "id": "e30b2943",
   "metadata": {},
   "outputs": [
    {
     "name": "stdout",
     "output_type": "stream",
     "text": [
      "25\n"
     ]
    }
   ],
   "source": [
    "a=5\n",
    "s=a**2\n",
    "print(s)"
   ]
  },
  {
   "cell_type": "code",
   "execution_count": 2,
   "id": "1a18bc1c",
   "metadata": {},
   "outputs": [
    {
     "data": {
      "text/plain": [
       "2"
      ]
     },
     "execution_count": 2,
     "metadata": {},
     "output_type": "execute_result"
    }
   ],
   "source": [
    "s=a//2\n",
    "s"
   ]
  },
  {
   "cell_type": "code",
   "execution_count": 3,
   "id": "01cc699d",
   "metadata": {},
   "outputs": [
    {
     "data": {
      "text/plain": [
       "int"
      ]
     },
     "execution_count": 3,
     "metadata": {},
     "output_type": "execute_result"
    }
   ],
   "source": [
    "type(s)"
   ]
  },
  {
   "cell_type": "code",
   "execution_count": 7,
   "id": "065f1af1",
   "metadata": {},
   "outputs": [
    {
     "name": "stdout",
     "output_type": "stream",
     "text": [
      "5\n"
     ]
    },
    {
     "data": {
      "text/plain": [
       "10.0"
      ]
     },
     "execution_count": 7,
     "metadata": {},
     "output_type": "execute_result"
    }
   ],
   "source": [
    "a=5\n",
    "b=float(input())\n",
    "s=a+b\n",
    "s"
   ]
  },
  {
   "cell_type": "code",
   "execution_count": 8,
   "id": "0afac412",
   "metadata": {},
   "outputs": [
    {
     "data": {
      "text/plain": [
       "float"
      ]
     },
     "execution_count": 8,
     "metadata": {},
     "output_type": "execute_result"
    }
   ],
   "source": [
    "type(s)"
   ]
  },
  {
   "cell_type": "code",
   "execution_count": 9,
   "id": "50723d72",
   "metadata": {},
   "outputs": [
    {
     "name": "stdout",
     "output_type": "stream",
     "text": [
      "5.0\n"
     ]
    }
   ],
   "source": [
    "print(s-a)"
   ]
  },
  {
   "cell_type": "code",
   "execution_count": 10,
   "id": "f495190c",
   "metadata": {},
   "outputs": [
    {
     "name": "stdout",
     "output_type": "stream",
     "text": [
      "50.0\n"
     ]
    }
   ],
   "source": [
    "print(s*a)"
   ]
  },
  {
   "cell_type": "code",
   "execution_count": 11,
   "id": "776cb72b",
   "metadata": {},
   "outputs": [
    {
     "data": {
      "text/plain": [
       "2.0"
      ]
     },
     "execution_count": 11,
     "metadata": {},
     "output_type": "execute_result"
    }
   ],
   "source": [
    "s/a"
   ]
  },
  {
   "cell_type": "code",
   "execution_count": 12,
   "id": "ecdce347",
   "metadata": {},
   "outputs": [
    {
     "data": {
      "text/plain": [
       "9"
      ]
     },
     "execution_count": 12,
     "metadata": {},
     "output_type": "execute_result"
    }
   ],
   "source": [
    "a=2\n",
    "3**a"
   ]
  },
  {
   "cell_type": "code",
   "execution_count": 13,
   "id": "675ac414",
   "metadata": {},
   "outputs": [
    {
     "data": {
      "text/plain": [
       "1"
      ]
     },
     "execution_count": 13,
     "metadata": {},
     "output_type": "execute_result"
    }
   ],
   "source": [
    "3//2"
   ]
  },
  {
   "cell_type": "code",
   "execution_count": 14,
   "id": "ca28a446",
   "metadata": {},
   "outputs": [
    {
     "data": {
      "text/plain": [
       "0"
      ]
     },
     "execution_count": 14,
     "metadata": {},
     "output_type": "execute_result"
    }
   ],
   "source": [
    "a=10\n",
    "s=a%2\n",
    "s"
   ]
  },
  {
   "cell_type": "code",
   "execution_count": 15,
   "id": "f10a5c08",
   "metadata": {},
   "outputs": [
    {
     "data": {
      "text/plain": [
       "1"
      ]
     },
     "execution_count": 15,
     "metadata": {},
     "output_type": "execute_result"
    }
   ],
   "source": [
    "a%3"
   ]
  },
  {
   "cell_type": "code",
   "execution_count": 16,
   "id": "20ec9c22",
   "metadata": {},
   "outputs": [
    {
     "data": {
      "text/plain": [
       "2"
      ]
     },
     "execution_count": 16,
     "metadata": {},
     "output_type": "execute_result"
    }
   ],
   "source": [
    "a&2"
   ]
  },
  {
   "cell_type": "code",
   "execution_count": 17,
   "id": "b9769d7b",
   "metadata": {},
   "outputs": [
    {
     "data": {
      "text/plain": [
       "2"
      ]
     },
     "execution_count": 17,
     "metadata": {},
     "output_type": "execute_result"
    }
   ],
   "source": [
    "a&3"
   ]
  },
  {
   "cell_type": "code",
   "execution_count": 18,
   "id": "78986b09",
   "metadata": {},
   "outputs": [
    {
     "data": {
      "text/plain": [
       "0"
      ]
     },
     "execution_count": 18,
     "metadata": {},
     "output_type": "execute_result"
    }
   ],
   "source": [
    "a&4"
   ]
  },
  {
   "cell_type": "code",
   "execution_count": 19,
   "id": "ed954da6",
   "metadata": {},
   "outputs": [
    {
     "data": {
      "text/plain": [
       "0"
      ]
     },
     "execution_count": 19,
     "metadata": {},
     "output_type": "execute_result"
    }
   ],
   "source": [
    "a&5\n"
   ]
  },
  {
   "cell_type": "code",
   "execution_count": 20,
   "id": "f6601dab",
   "metadata": {},
   "outputs": [
    {
     "data": {
      "text/plain": [
       "0"
      ]
     },
     "execution_count": 20,
     "metadata": {},
     "output_type": "execute_result"
    }
   ],
   "source": [
    "s&5"
   ]
  },
  {
   "cell_type": "code",
   "execution_count": 21,
   "id": "abc2cff6",
   "metadata": {},
   "outputs": [
    {
     "data": {
      "text/plain": [
       "5"
      ]
     },
     "execution_count": 21,
     "metadata": {},
     "output_type": "execute_result"
    }
   ],
   "source": [
    "s|5"
   ]
  },
  {
   "cell_type": "code",
   "execution_count": 22,
   "id": "46d59d49",
   "metadata": {},
   "outputs": [
    {
     "data": {
      "text/plain": [
       "3"
      ]
     },
     "execution_count": 22,
     "metadata": {},
     "output_type": "execute_result"
    }
   ],
   "source": [
    "s^3"
   ]
  },
  {
   "cell_type": "code",
   "execution_count": 23,
   "id": "a7ff22d2",
   "metadata": {},
   "outputs": [
    {
     "data": {
      "text/plain": [
       "0"
      ]
     },
     "execution_count": 23,
     "metadata": {},
     "output_type": "execute_result"
    }
   ],
   "source": [
    "s>>3"
   ]
  },
  {
   "cell_type": "code",
   "execution_count": 24,
   "id": "35d37350",
   "metadata": {},
   "outputs": [
    {
     "data": {
      "text/plain": [
       "0"
      ]
     },
     "execution_count": 24,
     "metadata": {},
     "output_type": "execute_result"
    }
   ],
   "source": [
    "s<<3"
   ]
  },
  {
   "cell_type": "code",
   "execution_count": 27,
   "id": "92b0da10",
   "metadata": {},
   "outputs": [
    {
     "data": {
      "text/plain": [
       "True"
      ]
     },
     "execution_count": 27,
     "metadata": {},
     "output_type": "execute_result"
    }
   ],
   "source": [
    "a=5\n",
    "b=5\n",
    "a is b"
   ]
  },
  {
   "cell_type": "code",
   "execution_count": 28,
   "id": "e850a6ac",
   "metadata": {},
   "outputs": [
    {
     "data": {
      "text/plain": [
       "False"
      ]
     },
     "execution_count": 28,
     "metadata": {},
     "output_type": "execute_result"
    }
   ],
   "source": [
    "a=5\n",
    "b=3\n",
    "\n",
    "a is  b"
   ]
  },
  {
   "cell_type": "code",
   "execution_count": 29,
   "id": "b554e994",
   "metadata": {},
   "outputs": [
    {
     "data": {
      "text/plain": [
       "True"
      ]
     },
     "execution_count": 29,
     "metadata": {},
     "output_type": "execute_result"
    }
   ],
   "source": [
    "a is not b"
   ]
  },
  {
   "cell_type": "code",
   "execution_count": 5,
   "id": "d14b35f2",
   "metadata": {},
   "outputs": [
    {
     "name": "stdout",
     "output_type": "stream",
     "text": [
      "Sahiqur Rahman\n"
     ]
    }
   ],
   "source": [
    "txt={\n",
    "    \"Name\":\"Sahiqur Rahman\",\n",
    "    \"Age\":\"25\",\n",
    "    \"Dept\":\"CSE\",\n",
    "}\n",
    "x=txt[\"Name\"]\n",
    "print(x)"
   ]
  },
  {
   "cell_type": "code",
   "execution_count": 7,
   "id": "90c4013a",
   "metadata": {},
   "outputs": [
    {
     "name": "stdout",
     "output_type": "stream",
     "text": [
      "We shall Over Come\n"
     ]
    }
   ],
   "source": [
    "txt={\n",
    "    \"Sentence\":\"We shall Over Come\"\n",
    "}\n",
    "x=txt[\"Sentence\"]\n",
    "print(x)"
   ]
  },
  {
   "cell_type": "code",
   "execution_count": 10,
   "id": "bde1bc36",
   "metadata": {},
   "outputs": [
    {
     "data": {
      "text/plain": [
       "dict_keys(['Sentence'])"
      ]
     },
     "execution_count": 10,
     "metadata": {},
     "output_type": "execute_result"
    }
   ],
   "source": [
    "x=txt.keys()\n",
    "x"
   ]
  },
  {
   "cell_type": "code",
   "execution_count": 11,
   "id": "d15f1fe1",
   "metadata": {},
   "outputs": [
    {
     "name": "stdout",
     "output_type": "stream",
     "text": [
      "dict_keys(['Name', 'Age', 'Dept'])\n"
     ]
    }
   ],
   "source": [
    "txt={\n",
    "     \"Name\":\"Sahiqur Rahman\",\n",
    "    \"Age\":\"25\",\n",
    "    \"Dept\":\"CSE\",\n",
    "}\n",
    "x=txt.keys()\n",
    "print(x)"
   ]
  },
  {
   "cell_type": "code",
   "execution_count": 13,
   "id": "4fea2bb7",
   "metadata": {},
   "outputs": [
    {
     "data": {
      "text/plain": [
       "dict_values(['Tanim Ahammad', '25', 'CSE'])"
      ]
     },
     "execution_count": 13,
     "metadata": {},
     "output_type": "execute_result"
    }
   ],
   "source": [
    "txt[\"Name\"]=\"Tanim Ahammad\"\n",
    "x=txt.values()\n",
    "x"
   ]
  },
  {
   "cell_type": "code",
   "execution_count": 17,
   "id": "6397adde",
   "metadata": {},
   "outputs": [
    {
     "name": "stdout",
     "output_type": "stream",
     "text": [
      "dict_values(['Toyota', 'Filter', '2010', '22 Lakhs'])\n"
     ]
    }
   ],
   "source": [
    "txt={\n",
    "    \"Brand\":\"Toyota\",\n",
    "    \"Car\":\"Filter\",\n",
    "    \"Model\":\"2010\",\n",
    "    \"Price\":\"22 Lakhs\",\n",
    "}\n",
    "x=txt.keys()\n",
    "print(x)"
   ]
  },
  {
   "cell_type": "code",
   "execution_count": 20,
   "id": "c9688da8",
   "metadata": {},
   "outputs": [
    {
     "data": {
      "text/plain": [
       "dict_values(['Toyota', 'Filter', '2010', '22 Lakhs'])"
      ]
     },
     "execution_count": 20,
     "metadata": {},
     "output_type": "execute_result"
    }
   ],
   "source": [
    "x=txt.values()\n",
    "x"
   ]
  },
  {
   "cell_type": "code",
   "execution_count": 21,
   "id": "3fa479a3",
   "metadata": {},
   "outputs": [
    {
     "data": {
      "text/plain": [
       "dict_items([('Brand', 'Toyota'), ('Car', 'Filter'), ('Model', '2010'), ('Price', '22 Lakhs')])"
      ]
     },
     "execution_count": 21,
     "metadata": {},
     "output_type": "execute_result"
    }
   ],
   "source": [
    "x=txt.items()\n",
    "x"
   ]
  },
  {
   "cell_type": "code",
   "execution_count": 22,
   "id": "ff1a854e",
   "metadata": {},
   "outputs": [
    {
     "name": "stdout",
     "output_type": "stream",
     "text": [
      "dict_keys(['Brand', 'Car', 'Model', 'Price'])\n"
     ]
    }
   ],
   "source": [
    "txt={\n",
    "    \"Brand\":\"Toyota\",\n",
    "    \"Car\":\"Filter\",\n",
    "    \"Model\":\"2010\",\n",
    "    \"Price\":\"22 Lakhs\",\n",
    "}\n",
    "x=txt.keys()\n",
    "print(x)"
   ]
  },
  {
   "cell_type": "code",
   "execution_count": 24,
   "id": "1142d6b8",
   "metadata": {},
   "outputs": [
    {
     "data": {
      "text/plain": [
       "dict_keys(['Brand', 'Car', 'Model', 'Price', 'colour'])"
      ]
     },
     "execution_count": 24,
     "metadata": {},
     "output_type": "execute_result"
    }
   ],
   "source": [
    "txt[\"colour\"]=\"red\"\n",
    "x=txt.keys()\n",
    "x"
   ]
  },
  {
   "cell_type": "code",
   "execution_count": 25,
   "id": "8ea49f6a",
   "metadata": {},
   "outputs": [
    {
     "name": "stdout",
     "output_type": "stream",
     "text": [
      "Yes this car is availabe for selling...!!!\n"
     ]
    }
   ],
   "source": [
    "if \"Model\" in txt:\n",
    "    print(\"Yes this car is availabe for selling...!!!\")"
   ]
  },
  {
   "cell_type": "code",
   "execution_count": 26,
   "id": "d935b816",
   "metadata": {},
   "outputs": [],
   "source": [
    "x=txt.update({\"Model\":2011})"
   ]
  },
  {
   "cell_type": "code",
   "execution_count": 29,
   "id": "b52f6708",
   "metadata": {},
   "outputs": [
    {
     "data": {
      "text/plain": [
       "dict_keys(['Brand', 'Car', 'Model', 'Price', 'colour'])"
      ]
     },
     "execution_count": 29,
     "metadata": {},
     "output_type": "execute_result"
    }
   ],
   "source": [
    "x"
   ]
  },
  {
   "cell_type": "code",
   "execution_count": 30,
   "id": "2c16b6d9",
   "metadata": {},
   "outputs": [],
   "source": [
    "x=txt.pop(\"Model\")"
   ]
  },
  {
   "cell_type": "code",
   "execution_count": 31,
   "id": "5e40949d",
   "metadata": {},
   "outputs": [
    {
     "data": {
      "text/plain": [
       "2011"
      ]
     },
     "execution_count": 31,
     "metadata": {},
     "output_type": "execute_result"
    }
   ],
   "source": [
    "x"
   ]
  },
  {
   "cell_type": "code",
   "execution_count": 32,
   "id": "f9a54ec3",
   "metadata": {},
   "outputs": [
    {
     "name": "stdout",
     "output_type": "stream",
     "text": [
      "{'Brand': 'Toyota', 'Car': 'Filter', 'Price': '22 Lakhs'}\n"
     ]
    }
   ],
   "source": [
    "txt={\n",
    "    \"Brand\":\"Toyota\",\n",
    "    \"Car\":\"Filter\",\n",
    "    \"Model\":\"2010\",\n",
    "    \"Price\":\"22 Lakhs\",\n",
    "}\n",
    "txt.pop(\"Model\")\n",
    "print(txt)"
   ]
  },
  {
   "cell_type": "code",
   "execution_count": 34,
   "id": "ffc2650a",
   "metadata": {},
   "outputs": [
    {
     "name": "stdout",
     "output_type": "stream",
     "text": [
      "{'Brand': 'Toyota', 'Car': 'Filter', 'Price': '22 Lakhs', 'Model': 2011}\n"
     ]
    }
   ],
   "source": [
    "txt.update({\"Model\":2011})\n",
    "print(txt)"
   ]
  },
  {
   "cell_type": "code",
   "execution_count": 36,
   "id": "b92e69ba",
   "metadata": {},
   "outputs": [
    {
     "name": "stdout",
     "output_type": "stream",
     "text": [
      "('Model', 2011)\n"
     ]
    }
   ],
   "source": [
    "print(txt.popitem())"
   ]
  },
  {
   "cell_type": "code",
   "execution_count": 38,
   "id": "b878b2dd",
   "metadata": {},
   "outputs": [
    {
     "name": "stdout",
     "output_type": "stream",
     "text": [
      "{'Brand': 'Toyota', 'Car': 'Filter', 'Model': '2010'}\n"
     ]
    }
   ],
   "source": [
    "txt={\n",
    "    \"Brand\":\"Toyota\",\n",
    "    \"Car\":\"Filter\",\n",
    "    \"Model\":\"2010\",\n",
    "    \"Price\":\"22 Lakhs\",\n",
    "}\n",
    "txt.popitem()\n",
    "print(txt)"
   ]
  },
  {
   "cell_type": "code",
   "execution_count": 40,
   "id": "3fb16146",
   "metadata": {},
   "outputs": [
    {
     "name": "stdout",
     "output_type": "stream",
     "text": [
      "{'Brand': 'Toyota', 'Car': 'Filter'}\n"
     ]
    }
   ],
   "source": [
    "del txt[\"Model\"]\n",
    "print(txt)"
   ]
  },
  {
   "cell_type": "code",
   "execution_count": 41,
   "id": "c85c31c3",
   "metadata": {},
   "outputs": [
    {
     "name": "stdout",
     "output_type": "stream",
     "text": [
      "{}\n"
     ]
    }
   ],
   "source": [
    "txt.clear()\n",
    "print(txt)"
   ]
  },
  {
   "cell_type": "code",
   "execution_count": 7,
   "id": "adc0afc1",
   "metadata": {},
   "outputs": [
    {
     "data": {
      "text/plain": [
       "['Sahiq', 'Robin Miah', 'Taniim', 'Sabbir']"
      ]
     },
     "execution_count": 7,
     "metadata": {},
     "output_type": "execute_result"
    }
   ],
   "source": [
    "txt=[\"Sahiq\",\"Robin\",\"Taniim\",\"Sabbir\"]\n",
    "txt[1]=\"Robin Miah\"\n",
    "txt"
   ]
  },
  {
   "cell_type": "code",
   "execution_count": 4,
   "id": "848e6070",
   "metadata": {},
   "outputs": [
    {
     "data": {
      "text/plain": [
       "['Sahiq', 'Robin', 'Tanim', 'Mainuddin']"
      ]
     },
     "execution_count": 4,
     "metadata": {},
     "output_type": "execute_result"
    }
   ],
   "source": [
    "txt=[\"Sahiq\",\"Robin\",\"Tanim\"]\n",
    "txt.append(\"Mainuddin\")\n",
    "txt"
   ]
  },
  {
   "cell_type": "code",
   "execution_count": 5,
   "id": "4d1e4296",
   "metadata": {},
   "outputs": [
    {
     "data": {
      "text/plain": [
       "['Orange', 'Charray', 'Mango', 'jackfrut']"
      ]
     },
     "execution_count": 5,
     "metadata": {},
     "output_type": "execute_result"
    }
   ],
   "source": [
    "txt=[\"Orange\",\"Mango\",\"jackfrut\"]\n",
    "txt.insert(1,\"Charray\")\n",
    "txt"
   ]
  },
  {
   "cell_type": "code",
   "execution_count": 6,
   "id": "c5c936bd",
   "metadata": {},
   "outputs": [
    {
     "data": {
      "text/plain": [
       "['Sahiq', 'Tanim', 'Samiul', 'Amin']"
      ]
     },
     "execution_count": 6,
     "metadata": {},
     "output_type": "execute_result"
    }
   ],
   "source": [
    "txt=[\"Sahiq\",\"Tanim\",\"Samiul\"]\n",
    "txt.insert(3,\"Amin\")\n",
    "txt"
   ]
  },
  {
   "cell_type": "code",
   "execution_count": 10,
   "id": "88be6601",
   "metadata": {},
   "outputs": [
    {
     "data": {
      "text/plain": [
       "['Korim', 'Sahiq', 'Tanim', 'Samiul', 'Korim', 'Abir', 'Amin']"
      ]
     },
     "execution_count": 10,
     "metadata": {},
     "output_type": "execute_result"
    }
   ],
   "source": [
    "txt.insert(-1,\"Abir\")\n",
    "txt"
   ]
  },
  {
   "cell_type": "code",
   "execution_count": 11,
   "id": "b8bba3b8",
   "metadata": {},
   "outputs": [
    {
     "data": {
      "text/plain": [
       "['Sahiq', 'Robin', 'Tanim', 'Hafsa', 'Mainuddin', 'Dina']"
      ]
     },
     "execution_count": 11,
     "metadata": {},
     "output_type": "execute_result"
    }
   ],
   "source": [
    "a=[\"Sahiq\",\"Robin\",\"Tanim\"]\n",
    "b=[\"Hafsa\",\"Mainuddin\",\"Dina\"]\n",
    "a.extend(b)\n",
    "a"
   ]
  },
  {
   "cell_type": "code",
   "execution_count": 12,
   "id": "9042ce98",
   "metadata": {},
   "outputs": [
    {
     "data": {
      "text/plain": [
       "['Sahiq', 'Robin', 'Tanim', 'Hafsa', 'Mainuddin', 'Dina']"
      ]
     },
     "execution_count": 12,
     "metadata": {},
     "output_type": "execute_result"
    }
   ],
   "source": [
    "a"
   ]
  },
  {
   "cell_type": "code",
   "execution_count": 13,
   "id": "a4d50931",
   "metadata": {},
   "outputs": [
    {
     "data": {
      "text/plain": [
       "['Sahiq', 'Robin', 'Tanim', 'Hafsa', 'Mainuddin', 'Jarir ahammad', 'Dina']"
      ]
     },
     "execution_count": 13,
     "metadata": {},
     "output_type": "execute_result"
    }
   ],
   "source": [
    "a.insert(-1,\"Jarir ahammad\")\n",
    "a"
   ]
  },
  {
   "cell_type": "code",
   "execution_count": 17,
   "id": "7c5b2f5c",
   "metadata": {},
   "outputs": [
    {
     "data": {
      "text/plain": [
       "['Sahiq', 'Amin', 'Sabbir']"
      ]
     },
     "execution_count": 17,
     "metadata": {},
     "output_type": "execute_result"
    }
   ],
   "source": [
    "txt=[\"Sahiq\",\"Robin\",\"Amin\",\"Sabbir\"]\n",
    "txt.remove(\"Robin\")\n",
    "txt"
   ]
  },
  {
   "cell_type": "code",
   "execution_count": 19,
   "id": "2debbceb",
   "metadata": {},
   "outputs": [
    {
     "data": {
      "text/plain": [
       "['Amin', 'Sabbir']"
      ]
     },
     "execution_count": 19,
     "metadata": {},
     "output_type": "execute_result"
    }
   ],
   "source": [
    "txt.pop(0)\n",
    "txt"
   ]
  },
  {
   "cell_type": "code",
   "execution_count": 20,
   "id": "4ea00cf6",
   "metadata": {},
   "outputs": [
    {
     "data": {
      "text/plain": [
       "['Amin']"
      ]
     },
     "execution_count": 20,
     "metadata": {},
     "output_type": "execute_result"
    }
   ],
   "source": [
    "txt.pop()\n",
    "txt"
   ]
  },
  {
   "cell_type": "code",
   "execution_count": 22,
   "id": "2211cd1b",
   "metadata": {},
   "outputs": [
    {
     "name": "stdout",
     "output_type": "stream",
     "text": [
      "Abir\n",
      "Sabbir\n",
      "Robin\n"
     ]
    }
   ],
   "source": [
    "txt=[\"Abir\",\"Sabbir\",\"Robin\"]\n",
    "for i in txt:\n",
    "    print(i)"
   ]
  },
  {
   "cell_type": "code",
   "execution_count": 25,
   "id": "30908841",
   "metadata": {},
   "outputs": [
    {
     "name": "stdout",
     "output_type": "stream",
     "text": [
      "Abir\n",
      "Sabbir\n",
      "Robin\n"
     ]
    }
   ],
   "source": [
    "txt=[\"Abir\",\"Sabbir\",\"Robin\"]\n",
    "for i in range(len(txt)):\n",
    "    print(txt[i])"
   ]
  },
  {
   "cell_type": "code",
   "execution_count": 28,
   "id": "b17e9a12",
   "metadata": {},
   "outputs": [
    {
     "name": "stdout",
     "output_type": "stream",
     "text": [
      "Abir\n",
      "Sabbir\n",
      "Robin\n"
     ]
    }
   ],
   "source": [
    "txt=[\"Abir\",\"Sabbir\",\"Robin\"]\n",
    "i=0;\n",
    "while i<len(txt):\n",
    "    print(txt[i])\n",
    "    i=i+1"
   ]
  },
  {
   "cell_type": "code",
   "execution_count": 32,
   "id": "5ec6619a",
   "metadata": {},
   "outputs": [
    {
     "name": "stdout",
     "output_type": "stream",
     "text": [
      "Abir\n",
      "Sabbir\n",
      "Robin\n",
      "Karim\n",
      "Rahim\n"
     ]
    }
   ],
   "source": [
    "txt=[\"Abir\",\"Sabbir\",\"Robin\",\"Karim\",\"Rahim\"]\n",
    "i=0\n",
    "while i<len(txt):\n",
    "    print(txt[i])\n",
    "    i=i+1"
   ]
  },
  {
   "cell_type": "code",
   "execution_count": 1,
   "id": "8ccdd230",
   "metadata": {},
   "outputs": [
    {
     "name": "stdout",
     "output_type": "stream",
     "text": [
      "['Abir', 'Sabbir', 'Robin', 'Karim', 'Rahim']\n"
     ]
    }
   ],
   "source": [
    "txt=[\"Abir\",\"Sabbir\",\"Robin\",\"Karim\",\"Rahim\"]\n",
    "newtxt=[]\n",
    "for x in txt:\n",
    "    if \"a\" in x:\n",
    "        newtxt.append(x)\n",
    "print(txt)"
   ]
  },
  {
   "cell_type": "code",
   "execution_count": 3,
   "id": "3cb1ef89",
   "metadata": {},
   "outputs": [
    {
     "data": {
      "text/plain": [
       "['Abir', 'Sabbir', 'Robin']"
      ]
     },
     "execution_count": 3,
     "metadata": {},
     "output_type": "execute_result"
    }
   ],
   "source": [
    "txt=[\"Abir\",\"Sabbir\",\"Robin\",\"Karim\",\"Rahim\"]\n",
    "txt1=[]\n",
    "for a in txt:\n",
    "    if \"b\" in a:\n",
    "        txt1.append(a)\n",
    "        \n",
    "txt1\n",
    "        "
   ]
  },
  {
   "cell_type": "code",
   "execution_count": 5,
   "id": "9c927ee0",
   "metadata": {},
   "outputs": [
    {
     "data": {
      "text/plain": [
       "['Sabbir', 'Karim', 'Rahim']"
      ]
     },
     "execution_count": 5,
     "metadata": {},
     "output_type": "execute_result"
    }
   ],
   "source": [
    "txt=[\"Abir\",\"Sabbir\",\"Robin\",\"Karim\",\"Rahim\"]\n",
    "newtxt=[ x for x in txt if \"a\" in x]\n",
    "newtxt"
   ]
  },
  {
   "cell_type": "code",
   "execution_count": 13,
   "id": "4351a0b4",
   "metadata": {},
   "outputs": [
    {
     "data": {
      "text/plain": [
       "[0, 1, 2, 3, 4, 5, 6, 7, 8, 9, 10, 11, 12, 13, 14, 15, 16, 17, 18, 19]"
      ]
     },
     "execution_count": 13,
     "metadata": {},
     "output_type": "execute_result"
    }
   ],
   "source": [
    "\n",
    "newtxt=[x for x in range(20)]\n",
    "newtxt"
   ]
  },
  {
   "cell_type": "code",
   "execution_count": 16,
   "id": "55200b36",
   "metadata": {},
   "outputs": [
    {
     "data": {
      "text/plain": [
       "[0, 1, 2, 3, 4, 5]"
      ]
     },
     "execution_count": 16,
     "metadata": {},
     "output_type": "execute_result"
    }
   ],
   "source": [
    "newtxt=[x for x in range(20) if x<=5]\n",
    "newtxt"
   ]
  },
  {
   "cell_type": "code",
   "execution_count": 17,
   "id": "8bd44362",
   "metadata": {},
   "outputs": [
    {
     "data": {
      "text/plain": [
       "['Abir', 'Karim', 'Rahim', 'Robin', 'Sabbir']"
      ]
     },
     "execution_count": 17,
     "metadata": {},
     "output_type": "execute_result"
    }
   ],
   "source": [
    "txt=[\"Abir\",\"Sabbir\",\"Robin\",\"Karim\",\"Rahim\"]\n",
    "txt.sort()\n",
    "txt"
   ]
  },
  {
   "cell_type": "code",
   "execution_count": 25,
   "id": "25a0933f",
   "metadata": {},
   "outputs": [
    {
     "data": {
      "text/plain": [
       "[1, 2, 3, 4, 6, 7, 20, 20, 40, 40, 50, 60, 100]"
      ]
     },
     "execution_count": 25,
     "metadata": {},
     "output_type": "execute_result"
    }
   ],
   "source": [
    "number=[100,20,40,50,60,20,40,4,3,2,7,6,1]\n",
    "number.sort()\n",
    "number"
   ]
  },
  {
   "cell_type": "code",
   "execution_count": 26,
   "id": "b26f318b",
   "metadata": {},
   "outputs": [
    {
     "data": {
      "text/plain": [
       "[100, 60, 50, 40, 40, 20, 20, 7, 6, 4, 3, 2, 1]"
      ]
     },
     "execution_count": 26,
     "metadata": {},
     "output_type": "execute_result"
    }
   ],
   "source": [
    "number=[100,20,40,50,60,20,40,4,3,2,7,6,1]\n",
    "number.sort(reverse=True)\n",
    "number"
   ]
  },
  {
   "cell_type": "code",
   "execution_count": null,
   "id": "ac92cfc1",
   "metadata": {},
   "outputs": [],
   "source": []
  }
 ],
 "metadata": {
  "kernelspec": {
   "display_name": "Python 3 (ipykernel)",
   "language": "python",
   "name": "python3"
  },
  "language_info": {
   "codemirror_mode": {
    "name": "ipython",
    "version": 3
   },
   "file_extension": ".py",
   "mimetype": "text/x-python",
   "name": "python",
   "nbconvert_exporter": "python",
   "pygments_lexer": "ipython3",
   "version": "3.11.5"
  }
 },
 "nbformat": 4,
 "nbformat_minor": 5
}
